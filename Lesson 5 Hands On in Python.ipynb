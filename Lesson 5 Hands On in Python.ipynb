{
 "cells": [
  {
   "cell_type": "markdown",
   "id": "a1bdee81",
   "metadata": {},
   "source": [
    "#### Simulation Hands-On\n",
    "A retailer wants to create a simulation to predict the profit on the sales of a certain tool she carries. She knows the profit is a function of several factors, for which she has historical data:\n",
    "\n",
    "Units Sold: Normal distribution, with a mean of 26 units and a standard deviation of 5.7 units.\n",
    "\n",
    "Price: Discrete distribution. 55% of the time the price is 38 dollars, 30% of the time the price is 41.50 dollars, and 15% of the time is 36.25 dollars.\n",
    "\n",
    "Cost: Uniform distribution, with a max of 33.72 dollars and a min of 26.88 dollars.\n",
    "\n",
    "Resource Factor: Normal distribution, with a mean of 3 and a standard deviation of 1.2.\n",
    "\n",
    "The function for profit is as follows:\n",
    "\n",
    "Profit = (RF * (Units sold) * (Price)) - ((0.2) * (RF) * (Units sold) * (Cost)) + $320\n",
    "\n",
    "Create a simulation that has 100 rows of monthly profits. Once you have completed this simulation exercise, prepare a report stating what you did, what you learned, and your results. You have the option to complete your simulation in either R, Python or Excel. Then submit it for grading."
   ]
  },
  {
   "cell_type": "code",
   "execution_count": 7,
   "id": "11eafa41",
   "metadata": {},
   "outputs": [],
   "source": [
    "import seaborn as sns\n",
    "import pandas as pd\n",
    "import matplotlib.pyplot as plt\n",
    "import numpy as np"
   ]
  },
  {
   "cell_type": "code",
   "execution_count": 3,
   "id": "fb78dcf7",
   "metadata": {},
   "outputs": [],
   "source": [
    "#sales = (np.random.normal(size=100))*5.7 +26"
   ]
  },
  {
   "cell_type": "code",
   "execution_count": 5,
   "id": "b9c30d02",
   "metadata": {},
   "outputs": [
    {
     "name": "stdout",
     "output_type": "stream",
     "text": [
      "[27.80741162 24.65428545 32.35339804 31.29111516 27.06628716 27.9250321\n",
      " 18.98789214 27.83347983 29.89829536 31.01577427 26.11003822 28.74008735\n",
      " 25.01439652 23.03130539 27.33333523 31.41460965 31.41436821 24.08222195\n",
      " 23.97337064 20.43083058 28.17031296 29.04482449 16.72180112 25.47301884\n",
      " 25.8328253  20.81088415 24.85931557 21.95901129 20.44806336 25.14412892\n",
      " 27.51977575 22.19556557 30.81031853 21.8125917  21.34590386 26.22768841\n",
      " 28.15928325 20.69214084 33.44446012 24.38521191 32.62939635 19.51077273\n",
      " 21.35318011 33.52742753 15.08080485 20.60891722 29.40754236 32.6081192\n",
      " 19.34957063 21.30252353 27.5532421  14.20878047 16.34172928 30.53179536\n",
      " 18.76683512 27.82754417 21.7027463  20.92444699 15.68431366 17.59339167\n",
      " 26.80497655 22.07600988 26.17247273 23.61328061 35.39360715 16.9666592\n",
      " 24.61947838 21.47887813 13.1302599  24.5708448  23.16689666 18.39790238\n",
      " 27.9062217  32.71192651 26.39476919 29.61405489 22.06520784 16.92437028\n",
      " 36.17463183 25.53068275 27.39381283 26.29163744 23.77652495 23.49812257\n",
      " 24.86438701 32.87370217 26.44644303 19.44843473 15.27048081 20.39218874\n",
      " 24.18434667 24.51035741 28.95326668 16.72334163 24.71590907 23.10548299\n",
      "  9.69095375 28.34945139 19.98469389 28.0881894 ]\n"
     ]
    }
   ],
   "source": [
    "#print(sales)"
   ]
  },
  {
   "cell_type": "code",
   "execution_count": 9,
   "id": "fcbb95fd",
   "metadata": {},
   "outputs": [],
   "source": [
    "profit = pd.read_csv(\"C:/Users/Marcy/Documents/Entity Coursework/DS106 Machine Learning/Lesson 5 Random/profit.csv\")"
   ]
  },
  {
   "cell_type": "code",
   "execution_count": 12,
   "id": "e1209671",
   "metadata": {},
   "outputs": [
    {
     "data": {
      "text/html": [
       "<div>\n",
       "<style scoped>\n",
       "    .dataframe tbody tr th:only-of-type {\n",
       "        vertical-align: middle;\n",
       "    }\n",
       "\n",
       "    .dataframe tbody tr th {\n",
       "        vertical-align: top;\n",
       "    }\n",
       "\n",
       "    .dataframe thead th {\n",
       "        text-align: right;\n",
       "    }\n",
       "</style>\n",
       "<table border=\"1\" class=\"dataframe\">\n",
       "  <thead>\n",
       "    <tr style=\"text-align: right;\">\n",
       "      <th></th>\n",
       "      <th>Units Sold</th>\n",
       "      <th>Unnamed: 1</th>\n",
       "      <th>Price</th>\n",
       "      <th>Cost</th>\n",
       "      <th>Resource Factor</th>\n",
       "      <th>Profit</th>\n",
       "    </tr>\n",
       "  </thead>\n",
       "  <tbody>\n",
       "    <tr>\n",
       "      <th>0</th>\n",
       "      <td>27.017043</td>\n",
       "      <td>0.704358</td>\n",
       "      <td>38.00</td>\n",
       "      <td>33.676915</td>\n",
       "      <td>3.700432</td>\n",
       "      <td>3445.672028</td>\n",
       "    </tr>\n",
       "    <tr>\n",
       "      <th>1</th>\n",
       "      <td>36.222468</td>\n",
       "      <td>0.964044</td>\n",
       "      <td>38.00</td>\n",
       "      <td>30.516564</td>\n",
       "      <td>4.440084</td>\n",
       "      <td>5449.969547</td>\n",
       "    </tr>\n",
       "    <tr>\n",
       "      <th>2</th>\n",
       "      <td>19.666732</td>\n",
       "      <td>0.097369</td>\n",
       "      <td>36.25</td>\n",
       "      <td>31.012302</td>\n",
       "      <td>4.003333</td>\n",
       "      <td>2685.717050</td>\n",
       "    </tr>\n",
       "    <tr>\n",
       "      <th>3</th>\n",
       "      <td>25.525047</td>\n",
       "      <td>0.528459</td>\n",
       "      <td>38.00</td>\n",
       "      <td>33.481193</td>\n",
       "      <td>2.761932</td>\n",
       "      <td>2526.866423</td>\n",
       "    </tr>\n",
       "    <tr>\n",
       "      <th>4</th>\n",
       "      <td>23.650946</td>\n",
       "      <td>0.436075</td>\n",
       "      <td>41.50</td>\n",
       "      <td>28.700141</td>\n",
       "      <td>3.545486</td>\n",
       "      <td>3318.619879</td>\n",
       "    </tr>\n",
       "  </tbody>\n",
       "</table>\n",
       "</div>"
      ],
      "text/plain": [
       "   Units Sold  Unnamed: 1  Price       Cost  Resource Factor       Profit\n",
       "0   27.017043    0.704358  38.00  33.676915         3.700432  3445.672028\n",
       "1   36.222468    0.964044  38.00  30.516564         4.440084  5449.969547\n",
       "2   19.666732    0.097369  36.25  31.012302         4.003333  2685.717050\n",
       "3   25.525047    0.528459  38.00  33.481193         2.761932  2526.866423\n",
       "4   23.650946    0.436075  41.50  28.700141         3.545486  3318.619879"
      ]
     },
     "execution_count": 12,
     "metadata": {},
     "output_type": "execute_result"
    }
   ],
   "source": [
    "profit.head()"
   ]
  },
  {
   "cell_type": "code",
   "execution_count": 13,
   "id": "b658a584",
   "metadata": {},
   "outputs": [
    {
     "data": {
      "text/plain": [
       "<matplotlib.lines.Line2D at 0x2d612875130>"
      ]
     },
     "execution_count": 13,
     "metadata": {},
     "output_type": "execute_result"
    },
    {
     "data": {
      "image/png": "[encoded data removed]",
      "text/plain": [
       "<Figure size 360x360 with 1 Axes>"
      ]
     },
     "metadata": {
      "needs_background": "light"
     },
     "output_type": "display_data"
    }
   ],
   "source": [
    "sns.displot(profit, x= \"Profit\", bins=30,)\n",
    "plt.xlabel(\"Profit\", size=14)\n",
    "plt.ylabel(\"Dollars\", size=14)\n",
    "plt.axvline(x=profit.Profit.mean(), color=\"red\")"
   ]
  },
  {
   "cell_type": "code",
   "execution_count": 18,
   "id": "adf22076",
   "metadata": {},
   "outputs": [
    {
     "name": "stdout",
     "output_type": "stream",
     "text": [
      "2948.3284520694965\n"
     ]
    }
   ],
   "source": [
    "x=profit.Profit.mean()\n",
    "print(x)"
   ]
  },
  {
   "cell_type": "markdown",
   "id": "0bc8f65d",
   "metadata": {},
   "source": [
    "# Analysis: Based on this model, the average profit for each month in a year is2,948.33.I would advise budgeting for no more than that amount for the year.It's possible her profits could exceed $2,948.33 for the year, but that would be a bonus. For planning purposes, best to plan for no more than that. Some models show much more than that for the year, but with a normal Gaussian distribution, there's an equal chance it could be less.¶"
   ]
  },
  {
   "cell_type": "code",
   "execution_count": null,
   "id": "516f964b",
   "metadata": {},
   "outputs": [],
   "source": []
  }
 ],
 "metadata": {
  "kernelspec": {
   "display_name": "Python 3 (ipykernel)",
   "language": "python",
   "name": "python3"
  },
  "language_info": {
   "codemirror_mode": {
    "name": "ipython",
    "version": 3
   },
   "file_extension": ".py",
   "mimetype": "text/x-python",
   "name": "python",
   "nbconvert_exporter": "python",
   "pygments_lexer": "ipython3",
   "version": "3.9.7"
  }
 },
 "nbformat": 4,
 "nbformat_minor": 5
}
