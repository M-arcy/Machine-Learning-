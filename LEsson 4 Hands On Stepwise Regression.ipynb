{
 "cells": [
  {
   "cell_type": "markdown",
   "id": "d18a8e69",
   "metadata": {},
   "source": [
    "#### Part I: Backwards Elimination\n",
    "Use this data file, which contains test scores and IQ for 15 individuals. Each individual took 5 tests. The IQ is the response variable, and the five different tests are the potential predictor variables. Perform a backwards elimination on this data, then answer the following questions:\n",
    "\n",
    "Which model is the best? Why?\n",
    "From the best model, what is the adjusted R2 value and what does it mean?\n",
    "From the best model, how does each variable influence IQ?"
   ]
  },
  {
   "cell_type": "code",
   "execution_count": 9,
   "id": "75815ed0",
   "metadata": {},
   "outputs": [],
   "source": [
    "IQlist <- read.csv(\"C:/Users/Marcy/Documents/Entity Coursework/DS106 Machine Learning/Lesson 4 Modeling with step-wise regression/IQ.csv\")"
   ]
  },
  {
   "cell_type": "code",
   "execution_count": 10,
   "id": "7c73dba3",
   "metadata": {},
   "outputs": [
    {
     "data": {
      "text/html": [
       "<table class=\"dataframe\">\n",
       "<caption>A data.frame: 6 × 6</caption>\n",
       "<thead>\n",
       "\t<tr><th></th><th scope=col>Test1</th><th scope=col>Test2</th><th scope=col>Test3</th><th scope=col>Test4</th><th scope=col>Test5</th><th scope=col>IQ</th></tr>\n",
       "\t<tr><th></th><th scope=col>&lt;int&gt;</th><th scope=col>&lt;int&gt;</th><th scope=col>&lt;int&gt;</th><th scope=col>&lt;int&gt;</th><th scope=col>&lt;int&gt;</th><th scope=col>&lt;int&gt;</th></tr>\n",
       "</thead>\n",
       "<tbody>\n",
       "\t<tr><th scope=row>1</th><td>83</td><td>34</td><td>65</td><td>63</td><td>64</td><td>106</td></tr>\n",
       "\t<tr><th scope=row>2</th><td>73</td><td>19</td><td>73</td><td>48</td><td>82</td><td> 92</td></tr>\n",
       "\t<tr><th scope=row>3</th><td>54</td><td>81</td><td>82</td><td>65</td><td>73</td><td>102</td></tr>\n",
       "\t<tr><th scope=row>4</th><td>96</td><td>72</td><td>91</td><td>88</td><td>94</td><td>121</td></tr>\n",
       "\t<tr><th scope=row>5</th><td>84</td><td>53</td><td>72</td><td>68</td><td>82</td><td>102</td></tr>\n",
       "\t<tr><th scope=row>6</th><td>86</td><td>72</td><td>63</td><td>79</td><td>57</td><td>105</td></tr>\n",
       "</tbody>\n",
       "</table>\n"
      ],
      "text/latex": [
       "A data.frame: 6 × 6\n",
       "\\begin{tabular}{r|llllll}\n",
       "  & Test1 & Test2 & Test3 & Test4 & Test5 & IQ\\\\\n",
       "  & <int> & <int> & <int> & <int> & <int> & <int>\\\\\n",
       "\\hline\n",
       "\t1 & 83 & 34 & 65 & 63 & 64 & 106\\\\\n",
       "\t2 & 73 & 19 & 73 & 48 & 82 &  92\\\\\n",
       "\t3 & 54 & 81 & 82 & 65 & 73 & 102\\\\\n",
       "\t4 & 96 & 72 & 91 & 88 & 94 & 121\\\\\n",
       "\t5 & 84 & 53 & 72 & 68 & 82 & 102\\\\\n",
       "\t6 & 86 & 72 & 63 & 79 & 57 & 105\\\\\n",
       "\\end{tabular}\n"
      ],
      "text/markdown": [
       "\n",
       "A data.frame: 6 × 6\n",
       "\n",
       "| <!--/--> | Test1 &lt;int&gt; | Test2 &lt;int&gt; | Test3 &lt;int&gt; | Test4 &lt;int&gt; | Test5 &lt;int&gt; | IQ &lt;int&gt; |\n",
       "|---|---|---|---|---|---|---|\n",
       "| 1 | 83 | 34 | 65 | 63 | 64 | 106 |\n",
       "| 2 | 73 | 19 | 73 | 48 | 82 |  92 |\n",
       "| 3 | 54 | 81 | 82 | 65 | 73 | 102 |\n",
       "| 4 | 96 | 72 | 91 | 88 | 94 | 121 |\n",
       "| 5 | 84 | 53 | 72 | 68 | 82 | 102 |\n",
       "| 6 | 86 | 72 | 63 | 79 | 57 | 105 |\n",
       "\n"
      ],
      "text/plain": [
       "  Test1 Test2 Test3 Test4 Test5 IQ \n",
       "1 83    34    65    63    64    106\n",
       "2 73    19    73    48    82     92\n",
       "3 54    81    82    65    73    102\n",
       "4 96    72    91    88    94    121\n",
       "5 84    53    72    68    82    102\n",
       "6 86    72    63    79    57    105"
      ]
     },
     "metadata": {},
     "output_type": "display_data"
    }
   ],
   "source": [
    "head(IQlist)"
   ]
  },
  {
   "cell_type": "markdown",
   "id": "61729d9a",
   "metadata": {},
   "source": [
    "#### create a model using IQ as the response variable, and the tests as predictor variables. "
   ]
  },
  {
   "cell_type": "code",
   "execution_count": 11,
   "id": "c6359e7a",
   "metadata": {},
   "outputs": [],
   "source": [
    "Fitall <- lm(IQ~., data=IQlist)"
   ]
  },
  {
   "cell_type": "code",
   "execution_count": 12,
   "id": "8c8d6bf6",
   "metadata": {},
   "outputs": [
    {
     "data": {
      "text/plain": [
       "\n",
       "Call:\n",
       "lm(formula = IQ ~ ., data = IQlist)\n",
       "\n",
       "Residuals:\n",
       "    Min      1Q  Median      3Q     Max \n",
       "-10.255  -5.661  -2.414   3.576  22.154 \n",
       "\n",
       "Coefficients:\n",
       "            Estimate Std. Error t value Pr(>|t|)   \n",
       "(Intercept) 85.24038   23.69513   3.597  0.00577 **\n",
       "Test1       -1.93357    1.02910  -1.879  0.09297 . \n",
       "Test2       -1.65988    0.87290  -1.902  0.08966 . \n",
       "Test3        0.10495    0.21990   0.477  0.64454   \n",
       "Test4        3.77838    1.83450   2.060  0.06952 . \n",
       "Test5       -0.04058    0.20122  -0.202  0.84467   \n",
       "---\n",
       "Signif. codes:  0 '***' 0.001 '**' 0.01 '*' 0.05 '.' 0.1 ' ' 1\n",
       "\n",
       "Residual standard error: 10.65 on 9 degrees of freedom\n",
       "Multiple R-squared:  0.3991,\tAdjusted R-squared:  0.06522 \n",
       "F-statistic: 1.195 on 5 and 9 DF,  p-value: 0.3835\n"
      ]
     },
     "metadata": {},
     "output_type": "display_data"
    }
   ],
   "source": [
    "summary(Fitall)"
   ]
  },
  {
   "cell_type": "markdown",
   "id": "ba5f35bb",
   "metadata": {},
   "source": [
    "#### Although the overall p value at the bottom is significant, none of the individual predictors are, meaning that the model is probably not a good fit; the number of variables has just inflated the p value to the point of being significant, and what the independent variables are does not really matter."
   ]
  },
  {
   "cell_type": "code",
   "execution_count": 5,
   "id": "f0f93c3d",
   "metadata": {
    "scrolled": true
   },
   "outputs": [
    {
     "name": "stdout",
     "output_type": "stream",
     "text": [
      "Start:  AIC=75.31\n",
      "IQ ~ Test1 + Test2 + Test3 + Test4 + Test5\n",
      "\n",
      "        Df Sum of Sq    RSS    AIC\n",
      "- Test5  1      4.61 1025.8 73.378\n",
      "- Test3  1     25.85 1047.0 73.685\n",
      "<none>               1021.2 75.310\n",
      "- Test1  1    400.56 1421.7 78.274\n",
      "- Test2  1    410.29 1431.5 78.376\n",
      "- Test4  1    481.32 1502.5 79.103\n",
      "\n",
      "Step:  AIC=73.38\n",
      "IQ ~ Test1 + Test2 + Test3 + Test4\n",
      "\n",
      "        Df Sum of Sq    RSS    AIC\n",
      "- Test3  1     21.24 1047.0 71.685\n",
      "<none>               1025.8 73.378\n",
      "- Test1  1    403.17 1429.0 76.350\n",
      "- Test2  1    406.47 1432.3 76.384\n",
      "- Test4  1    481.26 1507.1 77.148\n",
      "\n",
      "Step:  AIC=71.69\n",
      "IQ ~ Test1 + Test2 + Test4\n",
      "\n",
      "        Df Sum of Sq    RSS    AIC\n",
      "<none>               1047.0 71.685\n",
      "- Test2  1    406.25 1453.3 74.603\n",
      "- Test1  1    415.39 1462.4 74.697\n",
      "- Test4  1    484.13 1531.2 75.386\n"
     ]
    },
    {
     "data": {
      "text/plain": [
       "\n",
       "Call:\n",
       "lm(formula = IQ ~ Test1 + Test2 + Test4, data = IQ)\n",
       "\n",
       "Coefficients:\n",
       "(Intercept)        Test1        Test2        Test4  \n",
       "     90.733       -1.965       -1.649        3.789  \n"
      ]
     },
     "metadata": {},
     "output_type": "display_data"
    }
   ],
   "source": [
    "step(Fitall, direction = \"backward\")"
   ]
  },
  {
   "cell_type": "markdown",
   "id": "bdd0c294",
   "metadata": {},
   "source": [
    "#### A combination of tests 1, 2 and 4 is a better model than any that omit them. "
   ]
  },
  {
   "cell_type": "markdown",
   "id": "2c88a0ab",
   "metadata": {},
   "source": [
    "#### but is this model any good? create a new model with just those variables and look at the summary."
   ]
  },
  {
   "cell_type": "code",
   "execution_count": 14,
   "id": "f2db04c2",
   "metadata": {},
   "outputs": [],
   "source": [
    "fitsome = lm(IQ~Test1 + Test2 + Test4, data = IQlist)"
   ]
  },
  {
   "cell_type": "code",
   "execution_count": 8,
   "id": "ffca3d2b",
   "metadata": {},
   "outputs": [
    {
     "data": {
      "text/plain": [
       "\n",
       "Call:\n",
       "lm(formula = IQ ~ Test1 + Test2 + Test4, data = IQ)\n",
       "\n",
       "Residuals:\n",
       "     Min       1Q   Median       3Q      Max \n",
       "-10.9184  -6.8179  -0.9142   4.3920  21.1950 \n",
       "\n",
       "Coefficients:\n",
       "            Estimate Std. Error t value Pr(>|t|)    \n",
       "(Intercept)  90.7327    12.8272   7.073 2.06e-05 ***\n",
       "Test1        -1.9650     0.9406  -2.089   0.0607 .  \n",
       "Test2        -1.6485     0.7980  -2.066   0.0632 .  \n",
       "Test4         3.7890     1.6801   2.255   0.0455 *  \n",
       "---\n",
       "Signif. codes:  0 '***' 0.001 '**' 0.01 '*' 0.05 '.' 0.1 ' ' 1\n",
       "\n",
       "Residual standard error: 9.756 on 11 degrees of freedom\n",
       "Multiple R-squared:  0.3839,\tAdjusted R-squared:  0.2158 \n",
       "F-statistic: 2.284 on 3 and 11 DF,  p-value: 0.1356\n"
      ]
     },
     "metadata": {},
     "output_type": "display_data"
    }
   ],
   "source": [
    "summary (fitsome)"
   ]
  },
  {
   "cell_type": "markdown",
   "id": "b5fee796",
   "metadata": {},
   "source": [
    "#### With a multiple R-squared value of .38, interpretation of this means the model explais 38.3% of the variation in the IQ variable, with another 61.7% chalked up to noise or random error. The p value is larger than .05, and these two figures together suggest this isn't a very good model. The coefficient of Test1 is -1.97 and Test2 is -1.65. This means with everything else equal, a decrease on these tests shows a lower IQ. But the higher the score on Test 4, has a positive correlation with IQ scores. "
   ]
  },
  {
   "cell_type": "markdown",
   "id": "3403e3fb",
   "metadata": {},
   "source": [
    "#### To interpret the coefficients, typically the coefficient of a variable is interpreted as the change in the response (the tests) based on a 1-unit change in the corresponding explanatory variable (IQ) keeping all other variables held constant."
   ]
  },
  {
   "cell_type": "markdown",
   "id": "511e4949",
   "metadata": {},
   "source": [
    "#### Part II: Compare Stepwise Regression Types\n",
    "The following dataset will be used for this analysis. This data has a single response (Y) variable, and twelve predictor (X1 through X12) variables. Use these data to run all three kinds of stepwise regressions (backward elimination, forward selection, and the hybrid method). After completing these analyses, answer the following questions:\n",
    "\n",
    "Which model was the best for each type of method?\n",
    "How do the final models from each method compare to each other?\n",
    "From your chosen \"best model,\" explain what variable(s) contribute to predicting Y and for how much variance they account."
   ]
  },
  {
   "cell_type": "code",
   "execution_count": 15,
   "id": "db5e8440",
   "metadata": {},
   "outputs": [],
   "source": [
    "data = read.csv(\"C:/Users/Marcy/Documents/Entity Coursework/DS106 Machine Learning/Lesson 4 Modeling with step-wise regression/stepwiseRegression.csv\")"
   ]
  },
  {
   "cell_type": "code",
   "execution_count": 16,
   "id": "c0eddd5a",
   "metadata": {
    "scrolled": false
   },
   "outputs": [
    {
     "data": {
      "text/html": [
       "<table class=\"dataframe\">\n",
       "<caption>A data.frame: 6 × 13</caption>\n",
       "<thead>\n",
       "\t<tr><th></th><th scope=col>Y</th><th scope=col>X1</th><th scope=col>X2</th><th scope=col>X3</th><th scope=col>X4</th><th scope=col>X5</th><th scope=col>X6</th><th scope=col>X7</th><th scope=col>X8</th><th scope=col>X9</th><th scope=col>X10</th><th scope=col>X11</th><th scope=col>X12</th></tr>\n",
       "\t<tr><th></th><th scope=col>&lt;dbl&gt;</th><th scope=col>&lt;dbl&gt;</th><th scope=col>&lt;dbl&gt;</th><th scope=col>&lt;dbl&gt;</th><th scope=col>&lt;dbl&gt;</th><th scope=col>&lt;dbl&gt;</th><th scope=col>&lt;dbl&gt;</th><th scope=col>&lt;dbl&gt;</th><th scope=col>&lt;dbl&gt;</th><th scope=col>&lt;dbl&gt;</th><th scope=col>&lt;dbl&gt;</th><th scope=col>&lt;dbl&gt;</th><th scope=col>&lt;dbl&gt;</th></tr>\n",
       "</thead>\n",
       "<tbody>\n",
       "\t<tr><th scope=row>1</th><td>443.87</td><td>74.4</td><td>-20.9</td><td>29.9</td><td> -9.1</td><td>-2.3</td><td> -0.3</td><td>43.3</td><td> -5.9</td><td>25.7</td><td>72.6</td><td>-40.3</td><td> 2.9</td></tr>\n",
       "\t<tr><th scope=row>2</th><td>134.11</td><td>75.8</td><td>-16.9</td><td>33.1</td><td>-65.6</td><td> 0.4</td><td>-29.2</td><td>49.6</td><td> -1.3</td><td>11.7</td><td>71.5</td><td>-37.3</td><td> 2.7</td></tr>\n",
       "\t<tr><th scope=row>3</th><td>619.19</td><td>52.2</td><td>-16.9</td><td>30.8</td><td>-57.4</td><td> 0.5</td><td> 34.4</td><td>69.9</td><td> -5.1</td><td>17.9</td><td>73.8</td><td>-43.7</td><td>-1.6</td></tr>\n",
       "\t<tr><th scope=row>4</th><td>465.01</td><td>25.8</td><td>-23.5</td><td>32.4</td><td>-52.5</td><td>-1.0</td><td>  4.0</td><td>52.1</td><td> -9.5</td><td>11.9</td><td>72.2</td><td>-43.7</td><td>-1.3</td></tr>\n",
       "\t<tr><th scope=row>5</th><td>609.92</td><td>52.8</td><td> -7.6</td><td>33.5</td><td>-34.3</td><td>-0.6</td><td> 33.0</td><td>49.2</td><td> -1.8</td><td>33.5</td><td>74.9</td><td>-40.4</td><td> 0.5</td></tr>\n",
       "\t<tr><th scope=row>6</th><td>275.96</td><td>73.2</td><td>-10.9</td><td>27.6</td><td>-56.2</td><td>-1.6</td><td> -7.0</td><td>88.8</td><td>-16.6</td><td>26.4</td><td>74.0</td><td>-41.4</td><td> 2.0</td></tr>\n",
       "</tbody>\n",
       "</table>\n"
      ],
      "text/latex": [
       "A data.frame: 6 × 13\n",
       "\\begin{tabular}{r|lllllllllllll}\n",
       "  & Y & X1 & X2 & X3 & X4 & X5 & X6 & X7 & X8 & X9 & X10 & X11 & X12\\\\\n",
       "  & <dbl> & <dbl> & <dbl> & <dbl> & <dbl> & <dbl> & <dbl> & <dbl> & <dbl> & <dbl> & <dbl> & <dbl> & <dbl>\\\\\n",
       "\\hline\n",
       "\t1 & 443.87 & 74.4 & -20.9 & 29.9 &  -9.1 & -2.3 &  -0.3 & 43.3 &  -5.9 & 25.7 & 72.6 & -40.3 &  2.9\\\\\n",
       "\t2 & 134.11 & 75.8 & -16.9 & 33.1 & -65.6 &  0.4 & -29.2 & 49.6 &  -1.3 & 11.7 & 71.5 & -37.3 &  2.7\\\\\n",
       "\t3 & 619.19 & 52.2 & -16.9 & 30.8 & -57.4 &  0.5 &  34.4 & 69.9 &  -5.1 & 17.9 & 73.8 & -43.7 & -1.6\\\\\n",
       "\t4 & 465.01 & 25.8 & -23.5 & 32.4 & -52.5 & -1.0 &   4.0 & 52.1 &  -9.5 & 11.9 & 72.2 & -43.7 & -1.3\\\\\n",
       "\t5 & 609.92 & 52.8 &  -7.6 & 33.5 & -34.3 & -0.6 &  33.0 & 49.2 &  -1.8 & 33.5 & 74.9 & -40.4 &  0.5\\\\\n",
       "\t6 & 275.96 & 73.2 & -10.9 & 27.6 & -56.2 & -1.6 &  -7.0 & 88.8 & -16.6 & 26.4 & 74.0 & -41.4 &  2.0\\\\\n",
       "\\end{tabular}\n"
      ],
      "text/markdown": [
       "\n",
       "A data.frame: 6 × 13\n",
       "\n",
       "| <!--/--> | Y &lt;dbl&gt; | X1 &lt;dbl&gt; | X2 &lt;dbl&gt; | X3 &lt;dbl&gt; | X4 &lt;dbl&gt; | X5 &lt;dbl&gt; | X6 &lt;dbl&gt; | X7 &lt;dbl&gt; | X8 &lt;dbl&gt; | X9 &lt;dbl&gt; | X10 &lt;dbl&gt; | X11 &lt;dbl&gt; | X12 &lt;dbl&gt; |\n",
       "|---|---|---|---|---|---|---|---|---|---|---|---|---|---|\n",
       "| 1 | 443.87 | 74.4 | -20.9 | 29.9 |  -9.1 | -2.3 |  -0.3 | 43.3 |  -5.9 | 25.7 | 72.6 | -40.3 |  2.9 |\n",
       "| 2 | 134.11 | 75.8 | -16.9 | 33.1 | -65.6 |  0.4 | -29.2 | 49.6 |  -1.3 | 11.7 | 71.5 | -37.3 |  2.7 |\n",
       "| 3 | 619.19 | 52.2 | -16.9 | 30.8 | -57.4 |  0.5 |  34.4 | 69.9 |  -5.1 | 17.9 | 73.8 | -43.7 | -1.6 |\n",
       "| 4 | 465.01 | 25.8 | -23.5 | 32.4 | -52.5 | -1.0 |   4.0 | 52.1 |  -9.5 | 11.9 | 72.2 | -43.7 | -1.3 |\n",
       "| 5 | 609.92 | 52.8 |  -7.6 | 33.5 | -34.3 | -0.6 |  33.0 | 49.2 |  -1.8 | 33.5 | 74.9 | -40.4 |  0.5 |\n",
       "| 6 | 275.96 | 73.2 | -10.9 | 27.6 | -56.2 | -1.6 |  -7.0 | 88.8 | -16.6 | 26.4 | 74.0 | -41.4 |  2.0 |\n",
       "\n"
      ],
      "text/plain": [
       "  Y      X1   X2    X3   X4    X5   X6    X7   X8    X9   X10  X11   X12 \n",
       "1 443.87 74.4 -20.9 29.9  -9.1 -2.3  -0.3 43.3  -5.9 25.7 72.6 -40.3  2.9\n",
       "2 134.11 75.8 -16.9 33.1 -65.6  0.4 -29.2 49.6  -1.3 11.7 71.5 -37.3  2.7\n",
       "3 619.19 52.2 -16.9 30.8 -57.4  0.5  34.4 69.9  -5.1 17.9 73.8 -43.7 -1.6\n",
       "4 465.01 25.8 -23.5 32.4 -52.5 -1.0   4.0 52.1  -9.5 11.9 72.2 -43.7 -1.3\n",
       "5 609.92 52.8  -7.6 33.5 -34.3 -0.6  33.0 49.2  -1.8 33.5 74.9 -40.4  0.5\n",
       "6 275.96 73.2 -10.9 27.6 -56.2 -1.6  -7.0 88.8 -16.6 26.4 74.0 -41.4  2.0"
      ]
     },
     "metadata": {},
     "output_type": "display_data"
    }
   ],
   "source": [
    "head(data)"
   ]
  },
  {
   "cell_type": "markdown",
   "id": "5cd03996",
   "metadata": {},
   "source": [
    "#### backward to start"
   ]
  },
  {
   "cell_type": "code",
   "execution_count": 17,
   "id": "8c0cbe15",
   "metadata": {},
   "outputs": [
    {
     "data": {
      "text/plain": [
       "\n",
       "Call:\n",
       "lm(formula = Y ~ ., data = data)\n",
       "\n",
       "Residuals:\n",
       "    Min      1Q  Median      3Q     Max \n",
       "-5.1410 -1.7124 -0.1732  1.5415  4.9986 \n",
       "\n",
       "Coefficients:\n",
       "              Estimate Std. Error  t value Pr(>|t|)    \n",
       "(Intercept)  1.410e+03  1.496e+01   94.260   <2e-16 ***\n",
       "X1          -9.897e-03  1.815e-02   -0.545   0.5865    \n",
       "X2          -7.567e-02  4.301e-02   -1.759   0.0812 .  \n",
       "X3          -1.007e-01  9.998e-02   -1.007   0.3160    \n",
       "X4           2.810e+00  9.887e-03  284.252   <2e-16 ***\n",
       "X5          -1.972e-01  1.945e-01   -1.014   0.3128    \n",
       "X6           5.988e+00  7.560e-03  792.080   <2e-16 ***\n",
       "X7           1.157e-02  1.033e-02    1.120   0.2651    \n",
       "X8           2.921e-02  3.311e-02    0.882   0.3794    \n",
       "X9          -1.738e-02  3.021e-02   -0.575   0.5661    \n",
       "X10         -1.194e+01  1.886e-01  -63.302   <2e-16 ***\n",
       "X11         -1.454e-01  9.145e-02   -1.590   0.1145    \n",
       "X12         -2.601e+01  1.200e-01 -216.772   <2e-16 ***\n",
       "---\n",
       "Signif. codes:  0 '***' 0.001 '**' 0.01 '*' 0.05 '.' 0.1 ' ' 1\n",
       "\n",
       "Residual standard error: 2.258 on 115 degrees of freedom\n",
       "Multiple R-squared:  0.9999,\tAdjusted R-squared:  0.9998 \n",
       "F-statistic: 6.826e+04 on 12 and 115 DF,  p-value: < 2.2e-16\n"
      ]
     },
     "metadata": {},
     "output_type": "display_data"
    }
   ],
   "source": [
    "fitsall = lm(Y~., data=data)\n",
    "summary(fitsall)"
   ]
  },
  {
   "cell_type": "code",
   "execution_count": 19,
   "id": "03748053",
   "metadata": {},
   "outputs": [
    {
     "name": "stdout",
     "output_type": "stream",
     "text": [
      "Start:  AIC=220.74\n",
      "Y ~ X1 + X2 + X3 + X4 + X5 + X6 + X7 + X8 + X9 + X10 + X11 + \n",
      "    X12\n",
      "\n",
      "       Df Sum of Sq     RSS     AIC\n",
      "- X1    1         2     588  219.07\n",
      "- X9    1         2     588  219.11\n",
      "- X8    1         4     590  219.61\n",
      "- X3    1         5     591  219.87\n",
      "- X5    1         5     591  219.88\n",
      "- X7    1         6     592  220.13\n",
      "<none>                  586  220.74\n",
      "- X11   1        13     599  221.53\n",
      "- X2    1        16     602  222.14\n",
      "- X10   1     20422   21008  676.88\n",
      "- X12   1    239478  240064  988.69\n",
      "- X4    1    411780  412366 1057.94\n",
      "- X6    1   3197390 3197977 1320.13\n",
      "\n",
      "Step:  AIC=219.07\n",
      "Y ~ X2 + X3 + X4 + X5 + X6 + X7 + X8 + X9 + X10 + X11 + X12\n",
      "\n",
      "       Df Sum of Sq     RSS     AIC\n",
      "- X9    1         2     590  217.53\n",
      "- X8    1         4     591  217.88\n",
      "- X3    1         5     592  218.11\n",
      "- X5    1         5     593  218.15\n",
      "- X7    1         6     593  218.32\n",
      "<none>                  588  219.07\n",
      "- X11   1        13     600  219.81\n",
      "- X2    1        15     602  220.21\n",
      "- X10   1     22005   22593  684.19\n",
      "- X12   1    239741  240329  986.83\n",
      "- X4    1    416122  416709 1057.28\n",
      "- X6    1   3197423 3198011 1318.13\n",
      "\n",
      "Step:  AIC=217.53\n",
      "Y ~ X2 + X3 + X4 + X5 + X6 + X7 + X8 + X10 + X11 + X12\n",
      "\n",
      "       Df Sum of Sq     RSS     AIC\n",
      "- X8    1         3     593  216.25\n",
      "- X3    1         5     594  216.53\n",
      "- X5    1         5     594  216.55\n",
      "- X7    1         7     597  217.10\n",
      "<none>                  590  217.53\n",
      "- X11   1        12     602  218.10\n",
      "- X2    1        14     603  218.49\n",
      "- X10   1     22475   23065  684.84\n",
      "- X12   1    240461  241051  985.21\n",
      "- X4    1    431890  432480 1060.03\n",
      "- X6    1   3209316 3209906 1316.60\n",
      "\n",
      "Step:  AIC=216.25\n",
      "Y ~ X2 + X3 + X4 + X5 + X6 + X7 + X10 + X11 + X12\n",
      "\n",
      "       Df Sum of Sq     RSS     AIC\n",
      "- X5    1         4     597  215.19\n",
      "- X3    1         4     598  215.22\n",
      "- X7    1         6     600  215.64\n",
      "<none>                  593  216.25\n",
      "- X11   1        11     604  216.55\n",
      "- X2    1        15     608  217.42\n",
      "- X10   1     22513   23106  683.06\n",
      "- X12   1    243005  243598  984.56\n",
      "- X4    1    435329  435922 1059.05\n",
      "- X6    1   3219797 3220390 1315.02\n",
      "\n",
      "Step:  AIC=215.19\n",
      "Y ~ X2 + X3 + X4 + X6 + X7 + X10 + X11 + X12\n",
      "\n",
      "       Df Sum of Sq     RSS     AIC\n",
      "- X3    1         4     602  214.11\n",
      "- X7    1         7     604  214.69\n",
      "<none>                  597  215.19\n",
      "- X11   1        11     609  215.55\n",
      "- X2    1        16     614  216.60\n",
      "- X10   1     23264   23861  685.18\n",
      "- X12   1    246760  247357  984.52\n",
      "- X4    1    436921  437518 1057.52\n",
      "- X6    1   3248186 3248783 1314.15\n",
      "\n",
      "Step:  AIC=214.11\n",
      "Y ~ X2 + X4 + X6 + X7 + X10 + X11 + X12\n",
      "\n",
      "       Df Sum of Sq     RSS     AIC\n",
      "- X7    1         6     608  213.38\n",
      "<none>                  602  214.11\n",
      "- X11   1        12     614  214.63\n",
      "- X2    1        15     617  215.36\n",
      "- X10   1     23262   23864  683.19\n",
      "- X12   1    246934  247535  982.61\n",
      "- X4    1    444941  445543 1057.84\n",
      "- X6    1   3254016 3254618 1312.38\n",
      "\n",
      "Step:  AIC=213.38\n",
      "Y ~ X2 + X4 + X6 + X10 + X11 + X12\n",
      "\n",
      "       Df Sum of Sq     RSS     AIC\n",
      "<none>                  608  213.38\n",
      "- X11   1        11     618  213.63\n",
      "- X2    1        14     622  214.33\n",
      "- X10   1     23753   24360  683.83\n",
      "- X12   1    247389  247996  980.85\n",
      "- X4    1    444955  445563 1055.85\n",
      "- X6    1   3278411 3279019 1311.33\n"
     ]
    },
    {
     "data": {
      "text/plain": [
       "\n",
       "Call:\n",
       "lm(formula = Y ~ X2 + X4 + X6 + X10 + X11 + X12, data = data)\n",
       "\n",
       "Coefficients:\n",
       "(Intercept)           X2           X4           X6          X10          X11  \n",
       " 1410.27177     -0.06975      2.80806      5.98660    -11.97829     -0.13102  \n",
       "        X12  \n",
       "  -25.98121  \n"
      ]
     },
     "metadata": {},
     "output_type": "display_data"
    }
   ],
   "source": [
    "step(fitsall, direction=\"backward\")"
   ]
  },
  {
   "cell_type": "markdown",
   "id": "8a56c0a0",
   "metadata": {},
   "source": [
    "#### An AIC of 213.38 using X2, X4, X6, X10-12 as the predictors yields the lowest AIC. now compare model summary with all the predictors"
   ]
  },
  {
   "cell_type": "code",
   "execution_count": 21,
   "id": "af37773b",
   "metadata": {},
   "outputs": [
    {
     "data": {
      "text/plain": [
       "\n",
       "Call:\n",
       "lm(formula = Y ~ X2 + X4 + X6 + X10 + X11 + X12, data = data)\n",
       "\n",
       "Residuals:\n",
       "    Min      1Q  Median      3Q     Max \n",
       "-5.3190 -1.7438 -0.0897  1.7094  5.3882 \n",
       "\n",
       "Coefficients:\n",
       "              Estimate Std. Error  t value Pr(>|t|)    \n",
       "(Intercept)  1.410e+03  1.320e+01  106.815   <2e-16 ***\n",
       "X2          -6.975e-02  4.158e-02   -1.677   0.0961 .  \n",
       "X4           2.808e+00  9.434e-03  297.644   <2e-16 ***\n",
       "X6           5.987e+00  7.410e-03  807.924   <2e-16 ***\n",
       "X10         -1.198e+01  1.742e-01  -68.769   <2e-16 ***\n",
       "X11         -1.310e-01  8.950e-02   -1.464   0.1458    \n",
       "X12         -2.598e+01  1.171e-01 -221.937   <2e-16 ***\n",
       "---\n",
       "Signif. codes:  0 '***' 0.001 '**' 0.01 '*' 0.05 '.' 0.1 ' ' 1\n",
       "\n",
       "Residual standard error: 2.241 on 121 degrees of freedom\n",
       "Multiple R-squared:  0.9999,\tAdjusted R-squared:  0.9998 \n",
       "F-statistic: 1.385e+05 on 6 and 121 DF,  p-value: < 2.2e-16\n"
      ]
     },
     "metadata": {},
     "output_type": "display_data"
    }
   ],
   "source": [
    "fitssomed = lm(Y~X2 + X4 + X6 +X10 +X11 + X12, data=data)\n",
    "summary(fitssomed)"
   ]
  },
  {
   "cell_type": "markdown",
   "id": "03f80687",
   "metadata": {},
   "source": [
    "#### Wow, the multiple R-squared value is .99, which means this model explains 99% of the variation in the Y variable! That's great. But let's try forward selection next."
   ]
  },
  {
   "cell_type": "code",
   "execution_count": 24,
   "id": "51ef652d",
   "metadata": {},
   "outputs": [
    {
     "data": {
      "text/plain": [
       "\n",
       "Call:\n",
       "lm(formula = Y ~ 1, data = data)\n",
       "\n",
       "Residuals:\n",
       "    Min      1Q  Median      3Q     Max \n",
       "-481.25 -129.04   -5.43  138.24  519.84 \n",
       "\n",
       "Coefficients:\n",
       "            Estimate Std. Error t value Pr(>|t|)    \n",
       "(Intercept)   427.61      16.03   26.68   <2e-16 ***\n",
       "---\n",
       "Signif. codes:  0 '***' 0.001 '**' 0.01 '*' 0.05 '.' 0.1 ' ' 1\n",
       "\n",
       "Residual standard error: 181.3 on 127 degrees of freedom\n"
      ]
     },
     "metadata": {},
     "output_type": "display_data"
    }
   ],
   "source": [
    "forward1 = lm(Y~1, data=data)\n",
    "summary(forward1)"
   ]
  },
  {
   "cell_type": "markdown",
   "id": "ad9baba7",
   "metadata": {},
   "source": [
    "### Note the intercept is 427.61, which is just the mean of Y in the dataset. "
   ]
  },
  {
   "cell_type": "code",
   "execution_count": 25,
   "id": "b1efcc54",
   "metadata": {},
   "outputs": [
    {
     "name": "stdout",
     "output_type": "stream",
     "text": [
      "Start:  AIC=1332.26\n",
      "Y ~ 1\n",
      "\n",
      "       Df Sum of Sq     RSS    AIC\n",
      "+ X6    1   3312523  862636 1132.4\n",
      "+ X12   1    565679 3609480 1315.6\n",
      "+ X4    1    340596 3834563 1323.4\n",
      "+ X2    1     88438 4086721 1331.5\n",
      "+ X5    1     77171 4097988 1331.9\n",
      "<none>              4175159 1332.3\n",
      "+ X9    1     39558 4135601 1333.0\n",
      "+ X7    1     39324 4135835 1333.0\n",
      "+ X1    1     15448 4159711 1333.8\n",
      "+ X3    1     10545 4164613 1333.9\n",
      "+ X10   1     10472 4164687 1333.9\n",
      "+ X11   1      4176 4170982 1334.1\n",
      "+ X8    1       741 4174418 1334.2\n",
      "\n",
      "Step:  AIC=1132.41\n",
      "Y ~ X6\n",
      "\n",
      "       Df Sum of Sq    RSS     AIC\n",
      "+ X4    1    584861 277775  989.36\n",
      "+ X12   1    392692 469944 1056.67\n",
      "+ X10   1     29736 832900 1129.92\n",
      "+ X8    1     14958 847678 1132.17\n",
      "<none>              862636 1132.41\n",
      "+ X3    1      9152 853483 1133.05\n",
      "+ X9    1      5341 857295 1133.62\n",
      "+ X11   1      5119 857517 1133.65\n",
      "+ X2    1       904 861732 1134.28\n",
      "+ X1    1       378 862258 1134.36\n",
      "+ X5    1        63 862573 1134.40\n",
      "+ X7    1        36 862600 1134.41\n",
      "\n",
      "Step:  AIC=989.36\n",
      "Y ~ X6 + X4\n",
      "\n",
      "       Df Sum of Sq    RSS    AIC\n",
      "+ X12   1    253398  24377 679.92\n",
      "+ X10   1     29109 248666 977.20\n",
      "<none>              277775 989.36\n",
      "+ X9    1      3191 274584 989.89\n",
      "+ X1    1      2837 274937 990.05\n",
      "+ X8    1      1778 275997 990.54\n",
      "+ X5    1      1133 276641 990.84\n",
      "+ X11   1       716 277059 991.03\n",
      "+ X3    1        59 277716 991.34\n",
      "+ X7    1         6 277769 991.36\n",
      "+ X2    1         2 277773 991.36\n",
      "\n",
      "Step:  AIC=679.92\n",
      "Y ~ X6 + X4 + X12\n",
      "\n",
      "       Df Sum of Sq     RSS    AIC\n",
      "+ X10   1   23743.9   632.6 214.51\n",
      "+ X1    1    1773.3 22603.2 672.25\n",
      "+ X5    1     833.8 23542.7 677.46\n",
      "+ X9    1     618.9 23757.6 678.62\n",
      "+ X7    1     496.2 23880.3 679.28\n",
      "<none>              24376.5 679.92\n",
      "+ X3    1      13.4 24363.1 681.85\n",
      "+ X2    1      12.5 24364.1 681.85\n",
      "+ X8    1       7.8 24368.7 681.88\n",
      "+ X11   1       3.9 24372.7 681.90\n",
      "\n",
      "Step:  AIC=214.51\n",
      "Y ~ X6 + X4 + X12 + X10\n",
      "\n",
      "       Df Sum of Sq    RSS    AIC\n",
      "+ X2    1   14.0691 618.49 213.63\n",
      "+ X11   1   10.7026 621.86 214.33\n",
      "<none>              632.56 214.51\n",
      "+ X5    1    6.2628 626.30 215.24\n",
      "+ X7    1    3.6564 628.90 215.77\n",
      "+ X3    1    3.5245 629.03 215.80\n",
      "+ X8    1    1.9282 630.63 216.12\n",
      "+ X9    1    0.9072 631.65 216.33\n",
      "+ X1    1    0.0021 632.56 216.51\n",
      "\n",
      "Step:  AIC=213.63\n",
      "Y ~ X6 + X4 + X12 + X10 + X2\n",
      "\n",
      "       Df Sum of Sq    RSS    AIC\n",
      "+ X11   1   10.7647 607.73 213.38\n",
      "<none>              618.49 213.63\n",
      "+ X5    1    5.0482 613.44 214.58\n",
      "+ X7    1    4.8165 613.67 214.63\n",
      "+ X3    1    4.0701 614.42 214.79\n",
      "+ X9    1    1.7577 616.73 215.27\n",
      "+ X8    1    1.2276 617.26 215.38\n",
      "+ X1    1    0.5054 617.98 215.53\n",
      "\n",
      "Step:  AIC=213.38\n",
      "Y ~ X6 + X4 + X12 + X10 + X2 + X11\n",
      "\n",
      "       Df Sum of Sq    RSS    AIC\n",
      "<none>              607.73 213.38\n",
      "+ X7    1    6.0187 601.71 214.11\n",
      "+ X5    1    4.7325 602.99 214.38\n",
      "+ X3    1    3.2840 604.44 214.69\n",
      "+ X9    1    2.6094 605.12 214.83\n",
      "+ X8    1    2.1408 605.58 214.93\n",
      "+ X1    1    0.6137 607.11 215.25\n"
     ]
    },
    {
     "data": {
      "text/plain": [
       "\n",
       "Call:\n",
       "lm(formula = Y ~ X6 + X4 + X12 + X10 + X2 + X11, data = data)\n",
       "\n",
       "Coefficients:\n",
       "(Intercept)           X6           X4          X12          X10           X2  \n",
       " 1410.27177      5.98660      2.80806    -25.98121    -11.97829     -0.06975  \n",
       "        X11  \n",
       "   -0.13102  \n"
      ]
     },
     "metadata": {},
     "output_type": "display_data"
    }
   ],
   "source": [
    "step(forward1, direction = \"forward\", scope=formula(fitsall))"
   ]
  },
  {
   "cell_type": "markdown",
   "id": "809d592a",
   "metadata": {},
   "source": [
    "#### The final iteration brings us to   AIC=213.38, which includes\n",
    "Y ~ X6 + X4 + X12 + X10 + X2 + X11    -- It happens these are the same from the backward elimination model."
   ]
  },
  {
   "cell_type": "markdown",
   "id": "2756bb10",
   "metadata": {},
   "source": [
    "#### build a model that contains only these"
   ]
  },
  {
   "cell_type": "code",
   "execution_count": 26,
   "id": "d8f41046",
   "metadata": {
    "scrolled": true
   },
   "outputs": [
    {
     "data": {
      "text/plain": [
       "\n",
       "Call:\n",
       "lm(formula = Y ~ X6 + X4 + X12 + X10 + X2 + X11, data = data)\n",
       "\n",
       "Residuals:\n",
       "    Min      1Q  Median      3Q     Max \n",
       "-5.3190 -1.7438 -0.0897  1.7094  5.3882 \n",
       "\n",
       "Coefficients:\n",
       "              Estimate Std. Error  t value Pr(>|t|)    \n",
       "(Intercept)  1.410e+03  1.320e+01  106.815   <2e-16 ***\n",
       "X6           5.987e+00  7.410e-03  807.924   <2e-16 ***\n",
       "X4           2.808e+00  9.434e-03  297.644   <2e-16 ***\n",
       "X12         -2.598e+01  1.171e-01 -221.937   <2e-16 ***\n",
       "X10         -1.198e+01  1.742e-01  -68.769   <2e-16 ***\n",
       "X2          -6.975e-02  4.158e-02   -1.677   0.0961 .  \n",
       "X11         -1.310e-01  8.950e-02   -1.464   0.1458    \n",
       "---\n",
       "Signif. codes:  0 '***' 0.001 '**' 0.01 '*' 0.05 '.' 0.1 ' ' 1\n",
       "\n",
       "Residual standard error: 2.241 on 121 degrees of freedom\n",
       "Multiple R-squared:  0.9999,\tAdjusted R-squared:  0.9998 \n",
       "F-statistic: 1.385e+05 on 6 and 121 DF,  p-value: < 2.2e-16\n"
      ]
     },
     "metadata": {},
     "output_type": "display_data"
    }
   ],
   "source": [
    "finalmodelfwd = lm(Y ~ X6 + X4 + X12 + X10 + X2 + X11, data=data)\n",
    "summary (finalmodelfwd)"
   ]
  },
  {
   "cell_type": "markdown",
   "id": "8d1c225f",
   "metadata": {},
   "source": [
    "#### The multiple R-squared here too is .9999 - The AIC for the forward model is 213.38, whereas the AIC for the backwards was also exactly 213.38.  Handson directions say to check the hybrid, so that's next up. "
   ]
  },
  {
   "cell_type": "code",
   "execution_count": 27,
   "id": "205f6cb5",
   "metadata": {},
   "outputs": [
    {
     "name": "stdout",
     "output_type": "stream",
     "text": [
      "Start:  AIC=1332.26\n",
      "Y ~ 1\n",
      "\n",
      "       Df Sum of Sq     RSS    AIC\n",
      "+ X6    1   3312523  862636 1132.4\n",
      "+ X12   1    565679 3609480 1315.6\n",
      "+ X4    1    340596 3834563 1323.4\n",
      "+ X2    1     88438 4086721 1331.5\n",
      "+ X5    1     77171 4097988 1331.9\n",
      "<none>              4175159 1332.3\n",
      "+ X9    1     39558 4135601 1333.0\n",
      "+ X7    1     39324 4135835 1333.0\n",
      "+ X1    1     15448 4159711 1333.8\n",
      "+ X3    1     10545 4164613 1333.9\n",
      "+ X10   1     10472 4164687 1333.9\n",
      "+ X11   1      4176 4170982 1334.1\n",
      "+ X8    1       741 4174418 1334.2\n",
      "\n",
      "Step:  AIC=1132.41\n",
      "Y ~ X6\n",
      "\n",
      "       Df Sum of Sq     RSS     AIC\n",
      "+ X4    1    584861  277775  989.36\n",
      "+ X12   1    392692  469944 1056.67\n",
      "+ X10   1     29736  832900 1129.92\n",
      "+ X8    1     14958  847678 1132.17\n",
      "<none>               862636 1132.41\n",
      "+ X3    1      9152  853483 1133.05\n",
      "+ X9    1      5341  857295 1133.62\n",
      "+ X11   1      5119  857517 1133.65\n",
      "+ X2    1       904  861732 1134.28\n",
      "+ X1    1       378  862258 1134.36\n",
      "+ X5    1        63  862573 1134.40\n",
      "+ X7    1        36  862600 1134.41\n",
      "- X6    1   3312523 4175159 1332.26\n",
      "\n",
      "Step:  AIC=989.36\n",
      "Y ~ X6 + X4\n",
      "\n",
      "       Df Sum of Sq     RSS     AIC\n",
      "+ X12   1    253398   24377  679.92\n",
      "+ X10   1     29109  248666  977.20\n",
      "<none>               277775  989.36\n",
      "+ X9    1      3191  274584  989.89\n",
      "+ X1    1      2837  274937  990.05\n",
      "+ X8    1      1778  275997  990.54\n",
      "+ X5    1      1133  276641  990.84\n",
      "+ X11   1       716  277059  991.03\n",
      "+ X3    1        59  277716  991.34\n",
      "+ X7    1         6  277769  991.36\n",
      "+ X2    1         2  277773  991.36\n",
      "- X4    1    584861  862636 1132.41\n",
      "- X6    1   3556788 3834563 1323.36\n",
      "\n",
      "Step:  AIC=679.92\n",
      "Y ~ X6 + X4 + X12\n",
      "\n",
      "       Df Sum of Sq     RSS     AIC\n",
      "+ X10   1     23744     633  214.51\n",
      "+ X1    1      1773   22603  672.25\n",
      "+ X5    1       834   23543  677.46\n",
      "+ X9    1       619   23758  678.62\n",
      "+ X7    1       496   23880  679.28\n",
      "<none>                24377  679.92\n",
      "+ X3    1        13   24363  681.85\n",
      "+ X2    1        12   24364  681.85\n",
      "+ X8    1         8   24369  681.88\n",
      "+ X11   1         4   24373  681.90\n",
      "- X12   1    253398  277775  989.36\n",
      "- X4    1    445568  469944 1056.67\n",
      "- X6    1   3366659 3391035 1309.63\n",
      "\n",
      "Step:  AIC=214.51\n",
      "Y ~ X6 + X4 + X12 + X10\n",
      "\n",
      "       Df Sum of Sq     RSS     AIC\n",
      "+ X2    1        14     618  213.63\n",
      "+ X11   1        11     622  214.33\n",
      "<none>                  633  214.51\n",
      "+ X5    1         6     626  215.24\n",
      "+ X7    1         4     629  215.77\n",
      "+ X3    1         4     629  215.80\n",
      "+ X8    1         2     631  216.12\n",
      "+ X9    1         1     632  216.33\n",
      "+ X1    1         0     633  216.51\n",
      "- X10   1     23744   24377  679.92\n",
      "- X12   1    248034  248666  977.20\n",
      "- X4    1    446238  446871 1052.22\n",
      "- X6    1   3374711 3375344 1311.04\n",
      "\n",
      "Step:  AIC=213.63\n",
      "Y ~ X6 + X4 + X12 + X10 + X2\n",
      "\n",
      "       Df Sum of Sq     RSS     AIC\n",
      "+ X11   1        11     608  213.38\n",
      "<none>                  618  213.63\n",
      "- X2    1        14     633  214.51\n",
      "+ X5    1         5     613  214.58\n",
      "+ X7    1         5     614  214.63\n",
      "+ X3    1         4     614  214.79\n",
      "+ X9    1         2     617  215.27\n",
      "+ X8    1         1     617  215.38\n",
      "+ X1    1         1     618  215.53\n",
      "- X10   1     23746   24364  681.85\n",
      "- X12   1    248002  248620  979.17\n",
      "- X4    1    445781  446399 1054.09\n",
      "- X6    1   3295500 3296118 1310.00\n",
      "\n",
      "Step:  AIC=213.38\n",
      "Y ~ X6 + X4 + X12 + X10 + X2 + X11\n",
      "\n",
      "       Df Sum of Sq     RSS     AIC\n",
      "<none>                  608  213.38\n",
      "- X11   1        11     618  213.63\n",
      "+ X7    1         6     602  214.11\n",
      "- X2    1        14     622  214.33\n",
      "+ X5    1         5     603  214.38\n",
      "+ X3    1         3     604  214.69\n",
      "+ X9    1         3     605  214.83\n",
      "+ X8    1         2     606  214.93\n",
      "+ X1    1         1     607  215.26\n",
      "- X10   1     23753   24360  683.83\n",
      "- X12   1    247389  247996  980.85\n",
      "- X4    1    444955  445563 1055.85\n",
      "- X6    1   3278411 3279019 1311.33\n"
     ]
    },
    {
     "data": {
      "text/plain": [
       "\n",
       "Call:\n",
       "lm(formula = Y ~ X6 + X4 + X12 + X10 + X2 + X11, data = data)\n",
       "\n",
       "Coefficients:\n",
       "(Intercept)           X6           X4          X12          X10           X2  \n",
       " 1410.27177      5.98660      2.80806    -25.98121    -11.97829     -0.06975  \n",
       "        X11  \n",
       "   -0.13102  \n"
      ]
     },
     "metadata": {},
     "output_type": "display_data"
    }
   ],
   "source": [
    "step(forward1, direction = \"both\", scope=formula(fitsall))"
   ]
  },
  {
   "cell_type": "markdown",
   "id": "520f328d",
   "metadata": {},
   "source": [
    "# Hybrid yields identical results.  In the end, any of these regression models would have sufficed. Which brings to mind a question - how often does this occur, when one runs a regression model on the exact same data - do backward, forward and hybrid yield the same results often? After all, they are the same numbers. "
   ]
  },
  {
   "cell_type": "markdown",
   "id": "166ceb0e",
   "metadata": {},
   "source": [
    "#### To interpret the coefficients, typically the coefficient of a variable is interpreted as the change in the response (the tests) based on a 1-unit change in the corresponding explanatory variable (IQ) keeping all other variables held constant. "
   ]
  },
  {
   "cell_type": "code",
   "execution_count": null,
   "id": "af1073ba",
   "metadata": {},
   "outputs": [],
   "source": []
  }
 ],
 "metadata": {
  "kernelspec": {
   "display_name": "R",
   "language": "R",
   "name": "ir"
  },
  "language_info": {
   "codemirror_mode": "r",
   "file_extension": ".r",
   "mimetype": "text/x-r-source",
   "name": "R",
   "pygments_lexer": "r",
   "version": "4.1.1"
  }
 },
 "nbformat": 4,
 "nbformat_minor": 5
}
